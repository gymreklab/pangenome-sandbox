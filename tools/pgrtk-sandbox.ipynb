{
 "cells": [
  {
   "cell_type": "code",
   "execution_count": null,
   "id": "243483d6",
   "metadata": {},
   "outputs": [],
   "source": [
    "import pgrtk\n",
    "pgrtk.__version__\n",
    "\n",
    "# Load index\n",
    "sdb = pgrtk.SeqIndexDB()\n",
    "sdb.load_from_agc_index(\"../data/data/pgr-tk-HGRP-y1-evaluation-set-v0\")"
   ]
  },
  {
   "cell_type": "code",
   "execution_count": null,
   "id": "d4eb1514",
   "metadata": {},
   "outputs": [],
   "source": [
    "def get_seq_list(ROI_seq: list, sdb=sdb, padding: int=1.5e5, plot=True) -> list:\n",
    "    '''\n",
    "    Get a list of sequences from sdb index that match the ROI_seq.\n",
    "    :param sdb: SeqIndexDB object, the PGR index\n",
    "    :param ROI_seq: ROI sequence\n",
    "    :param padding: padding length  \n",
    "    :param plot:  \n",
    "    '''\n",
    "\n",
    "    ROI_len = len(ROI_seq)\n",
    "\n",
    "    # query the PGR index to find matches of this ROI\n",
    "    query_results = pgrtk.query_sdb(sdb, ROI_seq)\n",
    "    seq_list = []\n",
    "    seq_info = sdb.seq_info.copy() # Cache seq_info to reduce Rust HashMap to Python dictionary conversion in a loop\n",
    "    i = 1\n",
    "    if plot:\n",
    "        plt.figure(figsize=(36, 36))\n",
    "    for k in list(query_results.keys()):\n",
    "        ctg_name, source, _ = seq_info[k]\n",
    "        seq_id = k\n",
    "        rgns = query_results[k].copy()\n",
    "        # rgns = pgrtk.merge_regions(rgns,tol=1000) # if additional region merge needed\n",
    "        for rgn in rgns:\n",
    "            b, e, length, orientation, aln = rgn #beginning, end, length, orientation, alignments\n",
    "            aln.sort()\n",
    "            # Filters out reads that are not the entire length of the gene.\n",
    "            #if aln[0][0][0] > padding or aln[-1][0][1] < padding + ROI_len: \n",
    "            #    continue\n",
    "            \n",
    "            seq =  sdb.get_sub_seq(source, ctg_name, b, e)\n",
    "            # print(source, ctg_name, b, e)\n",
    "            if orientation == 1:\n",
    "                seq = pgrtk.rc_byte_seq(seq)\n",
    "\n",
    "            seq_list.append((\"{}_{}_{}_{}\".format(ctg_name, b, e, orientation), seq))\n",
    "            \n",
    "            if e-b < len(ROI_seq) * 0.50: # ignore partial match\n",
    "                continue\n",
    "            else:\n",
    "                x, y = pgrtk.get_shmmr_dots(ROI_seq, seq, 32, 32, 1, 1)\n",
    "                if i <= 25 and plot:\n",
    "                    plt.subplot(5,5,i)\n",
    "                    plt.plot(x, y, \".\", markersize=0.1)\n",
    "                    ylabel = \"#\".join(ctg_name.split(\"#\")[:2])\n",
    "                    if len(ylabel) > 20:\n",
    "                        ylabel = ylabel[:20]\n",
    "                    plt.ylabel(ylabel)\n",
    "                    # plt.plot([padding, padding],[0, max(y)], \"r\")\n",
    "                    # plt.plot([padding+ROI_len, padding+ROI_len],[0, max(y)], \"r\")\n",
    "                i += 1\n",
    "\n",
    "    return seq_list"
   ]
  },
  {
   "cell_type": "code",
   "execution_count": null,
   "id": "f137818b",
   "metadata": {},
   "outputs": [],
   "source": [
    "# Assign Subsequences\n",
    "# (Genome File Name, Chromosome Name, Seq Start Location, Seq End Location)\n",
    "C4 = ('CHM13Y','chr6', 31835263, 31855887)\n",
    "HTT = ('CHM13Y','chr4', 3063408, 3083408)\n",
    "\n",
    "# Get seq list\n",
    "C4_list = get_seq_list(C4_seq, plot=False)\n",
    "HTT_list = get_seq_list(HTT_seq, plot=False)"
   ]
  },
  {
   "cell_type": "code",
   "execution_count": null,
   "id": "725da17e",
   "metadata": {},
   "outputs": [],
   "source": [
    "C4_list"
   ]
  },
  {
   "cell_type": "code",
   "execution_count": 6,
   "id": "c7f18aab",
   "metadata": {},
   "outputs": [
    {
     "data": {
      "text/plain": [
       "3083408"
      ]
     },
     "execution_count": 6,
     "metadata": {},
     "output_type": "execute_result"
    }
   ],
   "source": [
    "ROI_lists = [C4_list, HTT_list]"
   ]
  }
 ],
 "metadata": {
  "kernelspec": {
   "display_name": "Python 3 (ipykernel)",
   "language": "python",
   "name": "python3"
  },
  "language_info": {
   "codemirror_mode": {
    "name": "ipython",
    "version": 3
   },
   "file_extension": ".py",
   "mimetype": "text/x-python",
   "name": "python",
   "nbconvert_exporter": "python",
   "pygments_lexer": "ipython3",
   "version": "3.8.18"
  }
 },
 "nbformat": 4,
 "nbformat_minor": 5
}
