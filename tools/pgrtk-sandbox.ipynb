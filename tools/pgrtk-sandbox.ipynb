{
 "cells": [
  {
   "cell_type": "code",
   "execution_count": 2,
   "id": "243483d6",
   "metadata": {},
   "outputs": [],
   "source": [
    "import pgrtk\n",
    "pgrtk.__version__\n",
    "\n",
    "# Load index\n",
    "sdb = pgrtk.SeqIndexDB()\n",
    "sdb.load_from_agc_index(\"/data/data/pgr-tk-HGRP-y1-evaluation-set-v0\")"
   ]
  },
  {
   "cell_type": "code",
   "execution_count": 5,
   "id": "d4eb1514",
   "metadata": {},
   "outputs": [],
   "source": [
    "def load_sub_seq(loci:tuple, compliment=False, database=sdb) -> list:\n",
    "    \"\"\" Reverse complement a sequence as a list of bytes (unsigned 8bit interger).\n",
    "\n",
    "    Parameters\n",
    "    ----------\n",
    "    database    : loaded in .mdb object\n",
    "    loci        : tuple containing ('genome_file', 'chromosome', start, end)\n",
    "    compliment  : bool indicating whether the sequence should be complimented or not\n",
    "    Returns\n",
    "    -------\n",
    "    list of bytes \n",
    "        the list of bytes of the given subsequence\n",
    "\n",
    "    \"\"\"\n",
    "    subseq = database.get_sub_seq(loci[0], loci[1], loci[2], loci[3])\n",
    "    if compliment: subseq = pgrtk.rc_byte_seq(subseq)\n",
    "    return subseq\n",
    "\n",
    "def get_seq_list(ROI_seq: list, sdb=sdb, padding: int=1.5e5, plot=True) -> list:\n",
    "    '''\n",
    "    Get a list of sequences from sdb index that match the ROI_seq.\n",
    "    :param sdb: SeqIndexDB object, the PGR index\n",
    "    :param ROI_seq: ROI sequence\n",
    "    :param padding: padding length  \n",
    "    :param plot:  \n",
    "    '''\n",
    "\n",
    "    ROI_len = len(ROI_seq)\n",
    "\n",
    "    # query the PGR index to find matches of this ROI\n",
    "    query_results = pgrtk.query_sdb(sdb, ROI_seq)\n",
    "    seq_list = []\n",
    "    seq_info = sdb.seq_info.copy() # Cache seq_info to reduce Rust HashMap to Python dictionary conversion in a loop\n",
    "    i = 1\n",
    "    if plot:\n",
    "        plt.figure(figsize=(36, 36))\n",
    "    for k in list(query_results.keys()):\n",
    "        ctg_name, source, _ = seq_info[k]\n",
    "        seq_id = k\n",
    "        rgns = query_results[k].copy()\n",
    "        # rgns = pgrtk.merge_regions(rgns,tol=1000) # if additional region merge needed\n",
    "        for rgn in rgns:\n",
    "            b, e, length, orientation, aln = rgn #beginning, end, length, orientation, alignments\n",
    "            aln.sort()\n",
    "            # Filters out reads that are not the entire length of the gene.\n",
    "            #if aln[0][0][0] > padding or aln[-1][0][1] < padding + ROI_len: \n",
    "            #    continue\n",
    "            \n",
    "            seq =  sdb.get_sub_seq(source, ctg_name, b, e)\n",
    "            # print(source, ctg_name, b, e)\n",
    "            if orientation == 1:\n",
    "                seq = pgrtk.rc_byte_seq(seq)\n",
    "\n",
    "            seq_list.append((\"{}_{}_{}_{}\".format(ctg_name, b, e, orientation), seq))\n",
    "            \n",
    "            if e-b < len(ROI_seq) * 0.50: # ignore partial match\n",
    "                continue\n",
    "            else:\n",
    "                x, y = pgrtk.get_shmmr_dots(ROI_seq, seq, 32, 32, 1, 1)\n",
    "                if i <= 25 and plot:\n",
    "                    plt.subplot(5,5,i)\n",
    "                    plt.plot(x, y, \".\", markersize=0.1)\n",
    "                    ylabel = \"#\".join(ctg_name.split(\"#\")[:2])\n",
    "                    if len(ylabel) > 20:\n",
    "                        ylabel = ylabel[:20]\n",
    "                    plt.ylabel(ylabel)\n",
    "                    # plt.plot([padding, padding],[0, max(y)], \"r\")\n",
    "                    # plt.plot([padding+ROI_len, padding+ROI_len],[0, max(y)], \"r\")\n",
    "                i += 1\n",
    "\n",
    "    return seq_list"
   ]
  },
  {
   "cell_type": "code",
   "execution_count": 30,
   "id": "f137818b",
   "metadata": {},
   "outputs": [],
   "source": [
    "# Assign Subsequences\n",
    "# (Genome File Name, Chromosome Name, Seq Start Location, Seq End Location)\n",
    "C4 = ('chm13_tagged.fa', \"chr6_chm13\", 31835263, 31855887)\n",
    "\n",
    "# Get seqs\n",
    "C4_seq = load_sub_seq(C4)\n",
    "\n",
    "# Get seq list\n",
    "C4_list = get_seq_list(C4_seq, plot=False)"
   ]
  },
  {
   "cell_type": "code",
   "execution_count": 39,
   "id": "44fc9e8a",
   "metadata": {},
   "outputs": [],
   "source": [
    "!mkdir -p data/region_graphs\n",
    "!mkdir -p figures"
   ]
  },
  {
   "cell_type": "code",
   "execution_count": 38,
   "id": "c7f18aab",
   "metadata": {},
   "outputs": [],
   "source": [
    "ROI_lists = [C4_list]\n",
    "seq_names = [\"C4\"]\n",
    "\n",
    "for seq_name, ROI_list in zip(seq_names, ROI_lists):\n",
    "    new_sdb = pgrtk.SeqIndexDB()\n",
    "    \n",
    "    new_sdb.load_from_seq_list(ROI_list, w=80, k=56, r=2, min_span=18)\n",
    "    '''\n",
    "    w: window size, 1 minimizer per window, increase to analyze larger structures more \n",
    "        efficiently. \n",
    "    k: minimizer size, (should stay smaller than window size)\n",
    "    r: hierarchical reduction factor, \n",
    "    min_span: Minimum distance between minimizers.\n",
    "    '''\n",
    "    new_sdb.generate_mapg_gfa(0, f\"data/region_graphs/{seq_name}.gfa\")"
   ]
  },
  {
   "cell_type": "code",
   "execution_count": 40,
   "id": "7ab4c9bb",
   "metadata": {},
   "outputs": [
    {
     "name": "stdout",
     "output_type": "stream",
     "text": [
      "figures/C4.png\n"
     ]
    },
    {
     "name": "stderr",
     "output_type": "stream",
     "text": [
      "bash: line 6: Bandage: command not found\n"
     ]
    },
    {
     "ename": "CalledProcessError",
     "evalue": "Command 'b'input=\"data/region_graphs/\"\\noutput=\"figures/\"\\nfor graph in $(ls data/region_graphs) ; do \\n    image=${graph/\".gfa\"/\".png\"}\\n    echo \"$output\"\"$image\"  \\n    Bandage image \"$input\"\"$graph\" \"$output\"\"$image\"  --edgewidth 1.0 --edgecol blue --colour random --outline 0.5 \\n    done\\n'' returned non-zero exit status 127.",
     "output_type": "error",
     "traceback": [
      "\u001b[0;31m---------------------------------------------------------------------------\u001b[0m",
      "\u001b[0;31mCalledProcessError\u001b[0m                        Traceback (most recent call last)",
      "Cell \u001b[0;32mIn[40], line 1\u001b[0m\n\u001b[0;32m----> 1\u001b[0m \u001b[43mget_ipython\u001b[49m\u001b[43m(\u001b[49m\u001b[43m)\u001b[49m\u001b[38;5;241;43m.\u001b[39;49m\u001b[43mrun_cell_magic\u001b[49m\u001b[43m(\u001b[49m\u001b[38;5;124;43m'\u001b[39;49m\u001b[38;5;124;43mbash\u001b[39;49m\u001b[38;5;124;43m'\u001b[39;49m\u001b[43m,\u001b[49m\u001b[43m \u001b[49m\u001b[38;5;124;43m'\u001b[39;49m\u001b[38;5;124;43m'\u001b[39;49m\u001b[43m,\u001b[49m\u001b[43m \u001b[49m\u001b[38;5;124;43m'\u001b[39;49m\u001b[38;5;124;43minput=\u001b[39;49m\u001b[38;5;124;43m\"\u001b[39;49m\u001b[38;5;124;43mdata/region_graphs/\u001b[39;49m\u001b[38;5;124;43m\"\u001b[39;49m\u001b[38;5;130;43;01m\\n\u001b[39;49;00m\u001b[38;5;124;43moutput=\u001b[39;49m\u001b[38;5;124;43m\"\u001b[39;49m\u001b[38;5;124;43mfigures/\u001b[39;49m\u001b[38;5;124;43m\"\u001b[39;49m\u001b[38;5;130;43;01m\\n\u001b[39;49;00m\u001b[38;5;124;43mfor graph in $(ls data/region_graphs) ; do \u001b[39;49m\u001b[38;5;130;43;01m\\n\u001b[39;49;00m\u001b[38;5;124;43m    image=$\u001b[39;49m\u001b[38;5;124;43m{\u001b[39;49m\u001b[38;5;124;43mgraph/\u001b[39;49m\u001b[38;5;124;43m\"\u001b[39;49m\u001b[38;5;124;43m.gfa\u001b[39;49m\u001b[38;5;124;43m\"\u001b[39;49m\u001b[38;5;124;43m/\u001b[39;49m\u001b[38;5;124;43m\"\u001b[39;49m\u001b[38;5;124;43m.png\u001b[39;49m\u001b[38;5;124;43m\"\u001b[39;49m\u001b[38;5;124;43m}\u001b[39;49m\u001b[38;5;130;43;01m\\n\u001b[39;49;00m\u001b[38;5;124;43m    echo \u001b[39;49m\u001b[38;5;124;43m\"\u001b[39;49m\u001b[38;5;124;43m$output\u001b[39;49m\u001b[38;5;124;43m\"\u001b[39;49m\u001b[38;5;124;43m\"\u001b[39;49m\u001b[38;5;124;43m$image\u001b[39;49m\u001b[38;5;124;43m\"\u001b[39;49m\u001b[38;5;124;43m  \u001b[39;49m\u001b[38;5;130;43;01m\\n\u001b[39;49;00m\u001b[38;5;124;43m    Bandage image \u001b[39;49m\u001b[38;5;124;43m\"\u001b[39;49m\u001b[38;5;124;43m$input\u001b[39;49m\u001b[38;5;124;43m\"\u001b[39;49m\u001b[38;5;124;43m\"\u001b[39;49m\u001b[38;5;124;43m$graph\u001b[39;49m\u001b[38;5;124;43m\"\u001b[39;49m\u001b[38;5;124;43m \u001b[39;49m\u001b[38;5;124;43m\"\u001b[39;49m\u001b[38;5;124;43m$output\u001b[39;49m\u001b[38;5;124;43m\"\u001b[39;49m\u001b[38;5;124;43m\"\u001b[39;49m\u001b[38;5;124;43m$image\u001b[39;49m\u001b[38;5;124;43m\"\u001b[39;49m\u001b[38;5;124;43m  --edgewidth 1.0 --edgecol blue --colour random --outline 0.5 \u001b[39;49m\u001b[38;5;130;43;01m\\n\u001b[39;49;00m\u001b[38;5;124;43m    done\u001b[39;49m\u001b[38;5;130;43;01m\\n\u001b[39;49;00m\u001b[38;5;124;43m'\u001b[39;49m\u001b[43m)\u001b[49m\n",
      "File \u001b[0;32m~/miniconda3/envs/pgr-tk/lib/python3.8/site-packages/IPython/core/interactiveshell.py:2478\u001b[0m, in \u001b[0;36mInteractiveShell.run_cell_magic\u001b[0;34m(self, magic_name, line, cell)\u001b[0m\n\u001b[1;32m   2476\u001b[0m \u001b[38;5;28;01mwith\u001b[39;00m \u001b[38;5;28mself\u001b[39m\u001b[38;5;241m.\u001b[39mbuiltin_trap:\n\u001b[1;32m   2477\u001b[0m     args \u001b[38;5;241m=\u001b[39m (magic_arg_s, cell)\n\u001b[0;32m-> 2478\u001b[0m     result \u001b[38;5;241m=\u001b[39m \u001b[43mfn\u001b[49m\u001b[43m(\u001b[49m\u001b[38;5;241;43m*\u001b[39;49m\u001b[43margs\u001b[49m\u001b[43m,\u001b[49m\u001b[43m \u001b[49m\u001b[38;5;241;43m*\u001b[39;49m\u001b[38;5;241;43m*\u001b[39;49m\u001b[43mkwargs\u001b[49m\u001b[43m)\u001b[49m\n\u001b[1;32m   2480\u001b[0m \u001b[38;5;66;03m# The code below prevents the output from being displayed\u001b[39;00m\n\u001b[1;32m   2481\u001b[0m \u001b[38;5;66;03m# when using magics with decodator @output_can_be_silenced\u001b[39;00m\n\u001b[1;32m   2482\u001b[0m \u001b[38;5;66;03m# when the last Python token in the expression is a ';'.\u001b[39;00m\n\u001b[1;32m   2483\u001b[0m \u001b[38;5;28;01mif\u001b[39;00m \u001b[38;5;28mgetattr\u001b[39m(fn, magic\u001b[38;5;241m.\u001b[39mMAGIC_OUTPUT_CAN_BE_SILENCED, \u001b[38;5;28;01mFalse\u001b[39;00m):\n",
      "File \u001b[0;32m~/miniconda3/envs/pgr-tk/lib/python3.8/site-packages/IPython/core/magics/script.py:153\u001b[0m, in \u001b[0;36mScriptMagics._make_script_magic.<locals>.named_script_magic\u001b[0;34m(line, cell)\u001b[0m\n\u001b[1;32m    151\u001b[0m \u001b[38;5;28;01melse\u001b[39;00m:\n\u001b[1;32m    152\u001b[0m     line \u001b[38;5;241m=\u001b[39m script\n\u001b[0;32m--> 153\u001b[0m \u001b[38;5;28;01mreturn\u001b[39;00m \u001b[38;5;28;43mself\u001b[39;49m\u001b[38;5;241;43m.\u001b[39;49m\u001b[43mshebang\u001b[49m\u001b[43m(\u001b[49m\u001b[43mline\u001b[49m\u001b[43m,\u001b[49m\u001b[43m \u001b[49m\u001b[43mcell\u001b[49m\u001b[43m)\u001b[49m\n",
      "File \u001b[0;32m~/miniconda3/envs/pgr-tk/lib/python3.8/site-packages/IPython/core/magics/script.py:305\u001b[0m, in \u001b[0;36mScriptMagics.shebang\u001b[0;34m(self, line, cell)\u001b[0m\n\u001b[1;32m    300\u001b[0m \u001b[38;5;28;01mif\u001b[39;00m args\u001b[38;5;241m.\u001b[39mraise_error \u001b[38;5;129;01mand\u001b[39;00m p\u001b[38;5;241m.\u001b[39mreturncode \u001b[38;5;241m!=\u001b[39m \u001b[38;5;241m0\u001b[39m:\n\u001b[1;32m    301\u001b[0m     \u001b[38;5;66;03m# If we get here and p.returncode is still None, we must have\u001b[39;00m\n\u001b[1;32m    302\u001b[0m     \u001b[38;5;66;03m# killed it but not yet seen its return code. We don't wait for it,\u001b[39;00m\n\u001b[1;32m    303\u001b[0m     \u001b[38;5;66;03m# in case it's stuck in uninterruptible sleep. -9 = SIGKILL\u001b[39;00m\n\u001b[1;32m    304\u001b[0m     rc \u001b[38;5;241m=\u001b[39m p\u001b[38;5;241m.\u001b[39mreturncode \u001b[38;5;129;01mor\u001b[39;00m \u001b[38;5;241m-\u001b[39m\u001b[38;5;241m9\u001b[39m\n\u001b[0;32m--> 305\u001b[0m     \u001b[38;5;28;01mraise\u001b[39;00m CalledProcessError(rc, cell)\n",
      "\u001b[0;31mCalledProcessError\u001b[0m: Command 'b'input=\"data/region_graphs/\"\\noutput=\"figures/\"\\nfor graph in $(ls data/region_graphs) ; do \\n    image=${graph/\".gfa\"/\".png\"}\\n    echo \"$output\"\"$image\"  \\n    Bandage image \"$input\"\"$graph\" \"$output\"\"$image\"  --edgewidth 1.0 --edgecol blue --colour random --outline 0.5 \\n    done\\n'' returned non-zero exit status 127."
     ]
    }
   ],
   "source": [
    "%%bash\n",
    "input=\"data/region_graphs/\"\n",
    "output=\"figures/\"\n",
    "for graph in $(ls data/region_graphs) ; do \n",
    "    image=${graph/\".gfa\"/\".png\"}\n",
    "    echo \"$output\"\"$image\"  \n",
    "    Bandage image \"$input\"\"$graph\" \"$output\"\"$image\"  --edgewidth 1.0 --edgecol blue --colour random --outline 0.5 \n",
    "    done"
   ]
  }
 ],
 "metadata": {
  "kernelspec": {
   "display_name": "Python 3 (ipykernel)",
   "language": "python",
   "name": "python3"
  },
  "language_info": {
   "codemirror_mode": {
    "name": "ipython",
    "version": 3
   },
   "file_extension": ".py",
   "mimetype": "text/x-python",
   "name": "python",
   "nbconvert_exporter": "python",
   "pygments_lexer": "ipython3",
   "version": "3.8.18"
  }
 },
 "nbformat": 4,
 "nbformat_minor": 5
}
