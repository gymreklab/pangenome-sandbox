{
 "cells": [
  {
   "cell_type": "code",
   "execution_count": 46,
   "id": "7811f5f8",
   "metadata": {},
   "outputs": [
    {
     "name": "stdout",
     "output_type": "stream",
     "text": [
      "%pylab is deprecated, use %matplotlib inline and import the required libraries.\n",
      "Populating the interactive namespace from numpy and matplotlib\n"
     ]
    }
   ],
   "source": [
    "%pylab inline"
   ]
  },
  {
   "cell_type": "code",
   "execution_count": 2,
   "id": "243483d6",
   "metadata": {},
   "outputs": [],
   "source": [
    "import pgrtk\n",
    "pgrtk.__version__\n",
    "\n",
    "# Load index\n",
    "sdb = pgrtk.SeqIndexDB()\n",
    "sdb.load_from_agc_index(\"/data/data/pgr-tk-HGRP-y1-evaluation-set-v0\")"
   ]
  },
  {
   "cell_type": "code",
   "execution_count": 77,
   "id": "d4eb1514",
   "metadata": {},
   "outputs": [],
   "source": [
    "def load_sub_seq(loci:tuple, compliment=False, database=sdb) -> list:\n",
    "    \"\"\" Reverse complement a sequence as a list of bytes (unsigned 8bit interger).\n",
    "\n",
    "    Parameters\n",
    "    ----------\n",
    "    database    : loaded in .mdb object\n",
    "    loci        : tuple containing ('genome_file', 'chromosome', start, end)\n",
    "    compliment  : bool indicating whether the sequence should be complimented or not\n",
    "    Returns\n",
    "    -------\n",
    "    list of bytes \n",
    "        the list of bytes of the given subsequence\n",
    "\n",
    "    \"\"\"\n",
    "    subseq = database.get_sub_seq(loci[0], loci[1], loci[2], loci[3])\n",
    "    if compliment: subseq = pgrtk.rc_byte_seq(subseq)\n",
    "    return subseq\n",
    "\n",
    "def get_seq_list(ROI_seq: list, sdb=sdb, padding: int=1.5e5, plot=True) -> list:\n",
    "    '''\n",
    "    Get a list of sequences from sdb index that match the ROI_seq.\n",
    "    :param sdb: SeqIndexDB object, the PGR index\n",
    "    :param ROI_seq: ROI sequence\n",
    "    :param padding: padding length  \n",
    "    :param plot:  \n",
    "    '''\n",
    "\n",
    "    ROI_len = len(ROI_seq)\n",
    "\n",
    "    # query the PGR index to find matches of this ROI\n",
    "    query_results = pgrtk.query_sdb(sdb, ROI_seq)\n",
    "    seq_list = []\n",
    "    seq_info = sdb.seq_info.copy() # Cache seq_info to reduce Rust HashMap to Python dictionary conversion in a loop\n",
    "    i = 1\n",
    "    if plot:\n",
    "        plt.figure(figsize=(36, 36))\n",
    "    for k in list(query_results.keys()):\n",
    "        ctg_name, source, _ = seq_info[k]\n",
    "        seq_id = k\n",
    "        rgns = query_results[k].copy()\n",
    "        # rgns = pgrtk.merge_regions(rgns,tol=1000) # if additional region merge needed\n",
    "        for rgn in rgns:\n",
    "            b, e, length, orientation, aln = rgn #beginning, end, length, orientation, alignments\n",
    "            aln.sort()\n",
    "            # Filters out reads that are not the entire length of the gene.\n",
    "            #if aln[0][0][0] > padding or aln[-1][0][1] < padding + ROI_len: \n",
    "            #    continue\n",
    "            \n",
    "            seq =  sdb.get_sub_seq(source, ctg_name, b, e)\n",
    "            # print(source, ctg_name, b, e)\n",
    "            if orientation == 1:\n",
    "                seq = pgrtk.rc_byte_seq(seq)\n",
    "\n",
    "            seq_list.append((\"{}_{}_{}_{}\".format(ctg_name, b, e, orientation), seq))\n",
    "            \n",
    "            if e-b < len(ROI_seq) * 0.50: # ignore partial match\n",
    "                continue\n",
    "            else:\n",
    "                x, y = pgrtk.get_shmmr_dots(ROI_seq, seq, 32, 32, 1, 1)\n",
    "                if i <= 25 and plot:\n",
    "                    plt.subplot(5,5,i)\n",
    "                    plt.plot(x, y, \".\", markersize=0.1)\n",
    "                    ylabel = \"#\".join(ctg_name.split(\"#\")[:2])\n",
    "                    if len(ylabel) > 20:\n",
    "                        ylabel = ylabel[:20]\n",
    "                    plt.ylabel(ylabel)\n",
    "                    # plt.plot([padding, padding],[0, max(y)], \"r\")\n",
    "                    # plt.plot([padding+ROI_len, padding+ROI_len],[0, max(y)], \"r\")\n",
    "                i += 1\n",
    "\n",
    "    return seq_list"
   ]
  },
  {
   "cell_type": "code",
   "execution_count": 78,
   "id": "f137818b",
   "metadata": {},
   "outputs": [],
   "source": [
    "# Assign Subsequences\n",
    "# (Genome File Name, Chromosome Name, Seq Start Location, Seq End Location)\n",
    "C4 = ('chm13_tagged.fa', \"chr6_chm13\", 31835263, 31855887)\n",
    "GATM = ('chm13_tagged.fa', \"chr15_chm13\", 43169299, 43186634)\n",
    "HLA = ('chm13_tagged.fa', 'chr6_chm13', 32016331, 32813515)\n",
    "CFTR = ('chm13_tagged.fa', 'chr7_chm13', 118831112, 118894842)\n",
    "\n",
    "# Get seqs\n",
    "C4_seq = load_sub_seq(C4)\n",
    "HLA_seq = load_sub_seq(HLA)\n",
    "GATM_seq = load_sub_seq(GATM)\n",
    "CFTR_seq = load_sub_seq(CFTR)\n",
    "\n",
    "# Get seq list\n",
    "C4_list = get_seq_list(C4_seq, plot=False)\n",
    "GATM_list = get_seq_list(GATM_seq, plot=False)\n",
    "HLA_list = get_seq_list(HLA_seq, plot=False)\n",
    "CFTR_list = get_seq_list(CFTR_seq, plot=False)"
   ]
  },
  {
   "cell_type": "code",
   "execution_count": 39,
   "id": "719db828",
   "metadata": {},
   "outputs": [],
   "source": [
    "!mkdir -p data/region_graphs\n",
    "!mkdir -p figures"
   ]
  },
  {
   "cell_type": "code",
   "execution_count": 80,
   "id": "c7f18aab",
   "metadata": {},
   "outputs": [],
   "source": [
    "ROI_lists = [C4_list, GATM_list, HLA_list, CFTR_list]\n",
    "seq_names = [\"C4\", \"GATM\", \"HLA\", \"CFTR\"]\n",
    "\n",
    "for seq_name, ROI_list in zip(seq_names, ROI_lists):\n",
    "    new_sdb = pgrtk.SeqIndexDB()\n",
    "    \n",
    "    new_sdb.load_from_seq_list(ROI_list, w=80, k=56, r=2, min_span=18)\n",
    "    '''\n",
    "    w: window size, 1 minimizer per window, increase to analyze larger structures more \n",
    "        efficiently. \n",
    "    k: minimizer size, (should stay smaller than window size)\n",
    "    r: hierarchical reduction factor, \n",
    "    min_span: Minimum distance between minimizers.\n",
    "    '''\n",
    "    new_sdb.generate_mapg_gfa(0, f\"data/region_graphs/{seq_name}.gfa\")"
   ]
  },
  {
   "cell_type": "markdown",
   "id": "60c46281",
   "metadata": {},
   "source": [
    "# Graph entropy metrics"
   ]
  },
  {
   "cell_type": "code",
   "execution_count": 83,
   "id": "db34bbcb",
   "metadata": {},
   "outputs": [
    {
     "name": "stdout",
     "output_type": "stream",
     "text": [
      "C4 7.882602\n",
      "GATM 7.498429\n",
      "failed on HLA\n",
      "CFTR 9.326647\n"
     ]
    }
   ],
   "source": [
    "for seq_name, ROI_list in zip(seq_names, ROI_lists):\n",
    "    try:\n",
    "        (entropy, weight_list) = pgrtk.compute_graph_diffusion_entropy(f\"data/region_graphs/{seq_name}.gfa\", max_nodes = 6000)\n",
    "        print(\"%s %s\"%(seq_name, entropy))\n",
    "    except: print(\"failed on %s\"%seq_name)"
   ]
  },
  {
   "cell_type": "markdown",
   "id": "e367c4c3",
   "metadata": {},
   "source": [
    "# Plotting subgraphs"
   ]
  },
  {
   "cell_type": "code",
   "execution_count": 81,
   "id": "a8ef1036",
   "metadata": {},
   "outputs": [
    {
     "name": "stdout",
     "output_type": "stream",
     "text": [
      "figures/C4.png\n",
      "figures/CFTR.png\n",
      "figures/GATM.png\n",
      "figures/HLA.png\n"
     ]
    }
   ],
   "source": [
    "%%bash\n",
    "input=\"data/region_graphs/\"\n",
    "output=\"figures/\"\n",
    "for graph in $(ls data/region_graphs) ; do \n",
    "    image=${graph/\".gfa\"/\".png\"}\n",
    "    echo \"$output\"\"$image\"\n",
    "    Bandage image \"$input\"\"$graph\" \"$output\"\"$image\"  --edgewidth 1.0 --edgecol blue --colour random --outline 0.5 \n",
    "    done"
   ]
  },
  {
   "cell_type": "markdown",
   "id": "b8b5840e",
   "metadata": {},
   "source": [
    "C4\n",
    "<img src=\"figures/C4.png\">\n",
    "\n",
    "GATM\n",
    "<img src=\"figures/GATM.png\">\n",
    "\n",
    "CFTR\n",
    "<img src=\"figures/CFTR.png\">\n",
    "\n",
    "HLA\n",
    "<img src=\"figures/HLA.png\">"
   ]
  }
 ],
 "metadata": {
  "kernelspec": {
   "display_name": "Python 3 (ipykernel)",
   "language": "python",
   "name": "python3"
  },
  "language_info": {
   "codemirror_mode": {
    "name": "ipython",
    "version": 3
   },
   "file_extension": ".py",
   "mimetype": "text/x-python",
   "name": "python",
   "nbconvert_exporter": "python",
   "pygments_lexer": "ipython3",
   "version": "3.8.18"
  }
 },
 "nbformat": 4,
 "nbformat_minor": 5
}
